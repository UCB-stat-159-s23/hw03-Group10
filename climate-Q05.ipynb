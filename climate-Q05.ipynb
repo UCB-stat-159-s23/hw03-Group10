{
 "cells": [
  {
   "cell_type": "markdown",
   "id": "d78c2dd1-36a1-4270-a5ed-a429e3025839",
   "metadata": {
    "user_expressions": []
   },
   "source": [
    "# Question 5"
   ]
  },
  {
   "cell_type": "code",
   "execution_count": null,
   "id": "1839400b-a5a8-48c5-a230-00b8b769fb88",
   "metadata": {},
   "outputs": [],
   "source": []
  }
 ],
 "metadata": {
  "kernelspec": {
   "display_name": "Python 3 (ipykernel)",
   "language": "python",
   "name": "python3"
  },
  "language_info": {
   "codemirror_mode": {
    "name": "ipython",
    "version": 3
   },
   "file_extension": ".py",
   "mimetype": "text/x-python",
   "name": "python",
   "nbconvert_exporter": "python",
   "pygments_lexer": "ipython3",
   "version": "3.10.8"
  }
 },
 "nbformat": 4,
 "nbformat_minor": 5
}
